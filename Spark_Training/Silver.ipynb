{
 "cells": [
  {
   "cell_type": "code",
   "execution_count": 0,
   "metadata": {
    "application/vnd.databricks.v1+cell": {
     "cellMetadata": {
      "byteLimit": 2048000,
      "implicitDf": true,
      "rowLimit": 10000
     },
     "inputWidgets": {},
     "nuid": "48b1764c-2358-4b47-883c-262ca24352cb",
     "showTitle": false,
     "tableResultSettingsMap": {},
     "title": ""
    }
   },
   "outputs": [],
   "source": [
    "%sql\n",
    "Select * from workspace.bronze.practice_sales"
   ]
  },
  {
   "cell_type": "code",
   "execution_count": 0,
   "metadata": {
    "application/vnd.databricks.v1+cell": {
     "cellMetadata": {
      "byteLimit": 2048000,
      "rowLimit": 10000
     },
     "inputWidgets": {},
     "nuid": "bf25fda1-0170-4b96-8038-c25ff8236665",
     "showTitle": true,
     "tableResultSettingsMap": {},
     "title": "Pyspark"
    }
   },
   "outputs": [],
   "source": [
    "df=spark.read.table(\"workspace.bronze.Practice_Sales\")\n",
    "\n",
    " \n",
    "\n",
    "df_final=df.dropDuplicates().dropna().drop(\"ingestion_date\")\n",
    "\n",
    " \n",
    "\n",
    "df_final.write.mode(\"overwrite\").saveAsTable(\"workspace.silver.sales_cleaned\")"
   ]
  },
  {
   "cell_type": "code",
   "execution_count": 0,
   "metadata": {
    "application/vnd.databricks.v1+cell": {
     "cellMetadata": {
      "byteLimit": 2048000,
      "implicitDf": true,
      "rowLimit": 10000
     },
     "inputWidgets": {},
     "nuid": "f4c161d6-230d-43fa-910e-69f45945824d",
     "showTitle": true,
     "tableResultSettingsMap": {},
     "title": "SQl"
    }
   },
   "outputs": [],
   "source": [
    "%sql\n",
    "--- create table silver.sales_cleaned as\n",
    "--- select distinct * from workspace.bronze.practice_sales where order_id is not null"
   ]
  }
 ],
 "metadata": {
  "application/vnd.databricks.v1+notebook": {
   "computePreferences": null,
   "dashboards": [],
   "environmentMetadata": {
    "base_environment": "",
    "environment_version": "2"
   },
   "inputWidgetPreferences": null,
   "language": "python",
   "notebookMetadata": {
    "mostRecentlyExecutedCommandWithImplicitDF": {
     "commandId": 4674784308740676,
     "dataframes": [
      "_sqldf"
     ]
    },
    "pythonIndentUnit": 4
   },
   "notebookName": "Silver",
   "widgets": {}
  },
  "language_info": {
   "name": "python"
  }
 },
 "nbformat": 4,
 "nbformat_minor": 0
}
